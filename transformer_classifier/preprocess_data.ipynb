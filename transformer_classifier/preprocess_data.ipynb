{
  "nbformat": 4,
  "nbformat_minor": 0,
  "metadata": {
    "colab": {
      "name": "preprocess_data.ipynb",
      "provenance": []
    },
    "kernelspec": {
      "display_name": "Python 3",
      "name": "python3"
    },
    "language_info": {
      "name": "python"
    }
  },
  "cells": [
    {
      "cell_type": "code",
      "metadata": {
        "colab": {
          "base_uri": "https://localhost:8080/",
          "height": 402
        },
        "id": "I4X816M7NKUm",
        "outputId": "80d89abc-74fb-47e5-f729-70b2d2a85b14"
      },
      "source": [
        "#!/usr/bin/env python3\n",
        "# -*- coding: utf-8 -*-\n",
        "\n",
        "#import matplotlib.pyplot as plt\n",
        "import pandas as pd \n",
        "\n",
        "df = pd.read_csv('/gdrive/My Drive/Major/Dataset/Scrapping tweets dem/covid19_infodemic_english_data.tsv', sep='\\t')\n",
        "df = df.drop(['q2_label', 'q3_label', 'q4_label', 'q5_label', 'q6_label', 'q7_label'], axis=1)\n",
        "df = df.rename(columns={'q1_label': 'Has_Verifiable_Claim'})\n",
        "df"
      ],
      "execution_count": null,
      "outputs": [
        {
          "output_type": "execute_result",
          "data": {
            "text/html": [
              "<div>\n",
              "<style scoped>\n",
              "    .dataframe tbody tr th:only-of-type {\n",
              "        vertical-align: middle;\n",
              "    }\n",
              "\n",
              "    .dataframe tbody tr th {\n",
              "        vertical-align: top;\n",
              "    }\n",
              "\n",
              "    .dataframe thead th {\n",
              "        text-align: right;\n",
              "    }\n",
              "</style>\n",
              "<table border=\"1\" class=\"dataframe\">\n",
              "  <thead>\n",
              "    <tr style=\"text-align: right;\">\n",
              "      <th></th>\n",
              "      <th>tweet_id</th>\n",
              "      <th>text</th>\n",
              "      <th>Has_Verifiable_Claim</th>\n",
              "    </tr>\n",
              "  </thead>\n",
              "  <tbody>\n",
              "    <tr>\n",
              "      <th>0</th>\n",
              "      <td>1241025578527903750</td>\n",
              "      <td>For the average American the best way to tell ...</td>\n",
              "      <td>no</td>\n",
              "    </tr>\n",
              "    <tr>\n",
              "      <th>1</th>\n",
              "      <td>1240467080954228737</td>\n",
              "      <td>this is fucking bullshit</td>\n",
              "      <td>no</td>\n",
              "    </tr>\n",
              "    <tr>\n",
              "      <th>2</th>\n",
              "      <td>1240716889162018816</td>\n",
              "      <td>Can y’all please just follow the government’s ...</td>\n",
              "      <td>no</td>\n",
              "    </tr>\n",
              "    <tr>\n",
              "      <th>3</th>\n",
              "      <td>1241062514886090754</td>\n",
              "      <td>No offense but the corona virus disappearing b...</td>\n",
              "      <td>no</td>\n",
              "    </tr>\n",
              "    <tr>\n",
              "      <th>4</th>\n",
              "      <td>1241447017945223169</td>\n",
              "      <td>This is the face of someone who just spent 9 h...</td>\n",
              "      <td>yes</td>\n",
              "    </tr>\n",
              "    <tr>\n",
              "      <th>...</th>\n",
              "      <td>...</td>\n",
              "      <td>...</td>\n",
              "      <td>...</td>\n",
              "    </tr>\n",
              "    <tr>\n",
              "      <th>499</th>\n",
              "      <td>1235967176475111432</td>\n",
              "      <td>President Trump's comments about the coronavir...</td>\n",
              "      <td>yes</td>\n",
              "    </tr>\n",
              "    <tr>\n",
              "      <th>500</th>\n",
              "      <td>1236056191324864515</td>\n",
              "      <td>Drug companies reportedly killed a provision i...</td>\n",
              "      <td>yes</td>\n",
              "    </tr>\n",
              "    <tr>\n",
              "      <th>501</th>\n",
              "      <td>1235987075440283648</td>\n",
              "      <td>Does @twitter have a team fighting covid-19 ru...</td>\n",
              "      <td>no</td>\n",
              "    </tr>\n",
              "    <tr>\n",
              "      <th>502</th>\n",
              "      <td>1235959558058754048</td>\n",
              "      <td>#FOX to cause PANDEMIC  #FoxNews is spreading ...</td>\n",
              "      <td>yes</td>\n",
              "    </tr>\n",
              "    <tr>\n",
              "      <th>503</th>\n",
              "      <td>1235985070009221120</td>\n",
              "      <td>NURTW Lagos is already sensitizing their peopl...</td>\n",
              "      <td>yes</td>\n",
              "    </tr>\n",
              "  </tbody>\n",
              "</table>\n",
              "<p>504 rows × 3 columns</p>\n",
              "</div>"
            ],
            "text/plain": [
              "                tweet_id  ... Has_Verifiable_Claim\n",
              "0    1241025578527903750  ...                   no\n",
              "1    1240467080954228737  ...                   no\n",
              "2    1240716889162018816  ...                   no\n",
              "3    1241062514886090754  ...                   no\n",
              "4    1241447017945223169  ...                  yes\n",
              "..                   ...  ...                  ...\n",
              "499  1235967176475111432  ...                  yes\n",
              "500  1236056191324864515  ...                  yes\n",
              "501  1235987075440283648  ...                   no\n",
              "502  1235959558058754048  ...                  yes\n",
              "503  1235985070009221120  ...                  yes\n",
              "\n",
              "[504 rows x 3 columns]"
            ]
          },
          "metadata": {
            "tags": []
          },
          "execution_count": 9
        }
      ]
    },
    {
      "cell_type": "code",
      "metadata": {
        "colab": {
          "base_uri": "https://localhost:8080/"
        },
        "id": "ve2fFAcMSWKQ",
        "outputId": "18345165-f57b-43dd-d25d-521baab0f553"
      },
      "source": [
        "pip install googletrans==3.1.0a0"
      ],
      "execution_count": null,
      "outputs": [
        {
          "output_type": "stream",
          "text": [
            "Collecting googletrans==3.1.0a0\n",
            "  Downloading https://files.pythonhosted.org/packages/19/3d/4e3a1609bf52f2f7b00436cc751eb977e27040665dde2bd57e7152989672/googletrans-3.1.0a0.tar.gz\n",
            "Collecting httpx==0.13.3\n",
            "\u001b[?25l  Downloading https://files.pythonhosted.org/packages/54/b4/698b284c6aed4d7c2b4fe3ba5df1fcf6093612423797e76fbb24890dd22f/httpx-0.13.3-py3-none-any.whl (55kB)\n",
            "\u001b[K     |████████████████████████████████| 61kB 4.2MB/s \n",
            "\u001b[?25hCollecting rfc3986<2,>=1.3\n",
            "  Downloading https://files.pythonhosted.org/packages/c4/e5/63ca2c4edf4e00657584608bee1001302bbf8c5f569340b78304f2f446cb/rfc3986-1.5.0-py2.py3-none-any.whl\n",
            "Collecting hstspreload\n",
            "\u001b[?25l  Downloading https://files.pythonhosted.org/packages/dd/50/606213e12fb49c5eb667df0936223dcaf461f94e215ea60244b2b1e9b039/hstspreload-2020.12.22-py3-none-any.whl (994kB)\n",
            "\u001b[K     |████████████████████████████████| 1.0MB 14.3MB/s \n",
            "\u001b[?25hRequirement already satisfied: chardet==3.* in /usr/local/lib/python3.7/dist-packages (from httpx==0.13.3->googletrans==3.1.0a0) (3.0.4)\n",
            "Collecting httpcore==0.9.*\n",
            "\u001b[?25l  Downloading https://files.pythonhosted.org/packages/dd/d5/e4ff9318693ac6101a2095e580908b591838c6f33df8d3ee8dd953ba96a8/httpcore-0.9.1-py3-none-any.whl (42kB)\n",
            "\u001b[K     |████████████████████████████████| 51kB 4.7MB/s \n",
            "\u001b[?25hRequirement already satisfied: idna==2.* in /usr/local/lib/python3.7/dist-packages (from httpx==0.13.3->googletrans==3.1.0a0) (2.10)\n",
            "Requirement already satisfied: certifi in /usr/local/lib/python3.7/dist-packages (from httpx==0.13.3->googletrans==3.1.0a0) (2020.12.5)\n",
            "Collecting sniffio\n",
            "  Downloading https://files.pythonhosted.org/packages/52/b0/7b2e028b63d092804b6794595871f936aafa5e9322dcaaad50ebf67445b3/sniffio-1.2.0-py3-none-any.whl\n",
            "Collecting h11<0.10,>=0.8\n",
            "\u001b[?25l  Downloading https://files.pythonhosted.org/packages/5a/fd/3dad730b0f95e78aeeb742f96fa7bbecbdd56a58e405d3da440d5bfb90c6/h11-0.9.0-py2.py3-none-any.whl (53kB)\n",
            "\u001b[K     |████████████████████████████████| 61kB 5.6MB/s \n",
            "\u001b[?25hCollecting h2==3.*\n",
            "\u001b[?25l  Downloading https://files.pythonhosted.org/packages/25/de/da019bcc539eeab02f6d45836f23858ac467f584bfec7a526ef200242afe/h2-3.2.0-py2.py3-none-any.whl (65kB)\n",
            "\u001b[K     |████████████████████████████████| 71kB 6.1MB/s \n",
            "\u001b[?25hCollecting hyperframe<6,>=5.2.0\n",
            "  Downloading https://files.pythonhosted.org/packages/19/0c/bf88182bcb5dce3094e2f3e4fe20db28a9928cb7bd5b08024030e4b140db/hyperframe-5.2.0-py2.py3-none-any.whl\n",
            "Collecting hpack<4,>=3.0\n",
            "  Downloading https://files.pythonhosted.org/packages/8a/cc/e53517f4a1e13f74776ca93271caef378dadec14d71c61c949d759d3db69/hpack-3.0.0-py2.py3-none-any.whl\n",
            "Building wheels for collected packages: googletrans\n",
            "  Building wheel for googletrans (setup.py) ... \u001b[?25l\u001b[?25hdone\n",
            "  Created wheel for googletrans: filename=googletrans-3.1.0a0-cp37-none-any.whl size=16368 sha256=1e50a8f106f3437217605192d0814646478ec68d5503ba2d6487a291abd9c59f\n",
            "  Stored in directory: /root/.cache/pip/wheels/27/7a/a0/aff3babbb775549ce6813cb8fa7ff3c0848c4dc62c20f8fdac\n",
            "Successfully built googletrans\n",
            "Installing collected packages: rfc3986, hstspreload, h11, hyperframe, hpack, h2, sniffio, httpcore, httpx, googletrans\n",
            "Successfully installed googletrans-3.1.0a0 h11-0.9.0 h2-3.2.0 hpack-3.0.0 hstspreload-2020.12.22 httpcore-0.9.1 httpx-0.13.3 hyperframe-5.2.0 rfc3986-1.5.0 sniffio-1.2.0\n"
          ],
          "name": "stdout"
        }
      ]
    },
    {
      "cell_type": "code",
      "metadata": {
        "id": "SOwJankEPtPO"
      },
      "source": [
        "from googletrans import Translator\n",
        "translator=Translator()\n",
        "# translator = Translator(service_urls=['translate.googleapis.com'])"
      ],
      "execution_count": null,
      "outputs": []
    },
    {
      "cell_type": "code",
      "metadata": {
        "colab": {
          "base_uri": "https://localhost:8080/"
        },
        "id": "MjoSgaiwOzuD",
        "outputId": "b25fe9ee-e17f-4bac-862e-96c52f87118f"
      },
      "source": [
        "out=translator.translate('hello how are you',dest='hi')\n",
        "print(out.text)\n"
      ],
      "execution_count": null,
      "outputs": [
        {
          "output_type": "stream",
          "text": [
            "नमस्ते कैसी हो तुम\n"
          ],
          "name": "stdout"
        }
      ]
    },
    {
      "cell_type": "code",
      "metadata": {
        "id": "DiQ0gSVrf0Pm"
      },
      "source": [
        "import pandas as pd"
      ],
      "execution_count": null,
      "outputs": []
    },
    {
      "cell_type": "code",
      "metadata": {
        "id": "_qbhATgbkzwI"
      },
      "source": [
        "df_hindi = pd.read_csv('/gdrive/My Drive/Major/Dataset/Scrapping tweets dem/covid_tweets_in_hindi.csv')"
      ],
      "execution_count": null,
      "outputs": []
    },
    {
      "cell_type": "code",
      "metadata": {
        "id": "EftjzgfWSPfL"
      },
      "source": [
        "translator.raise_Exception = True"
      ],
      "execution_count": null,
      "outputs": []
    },
    {
      "cell_type": "code",
      "metadata": {
        "colab": {
          "base_uri": "https://localhost:8080/",
          "height": 437
        },
        "id": "CEsVKGwPNKU3",
        "outputId": "c026c5ab-d3af-4f37-cbb4-e006551e3531"
      },
      "source": [
        "#translate to Indic languages\n",
        "from googletrans import Translator\n",
        "translator=Translator()\n",
        "df_bangla = df.copy()\n",
        "df_bangla['text'] = df_bangla['text'].apply(lambda text : translator.translate(text, dest='bn').text)\n",
        "\n",
        "\n",
        "# df_hindi = df.copy()\n",
        "# df_hindi['text'] = df_hindi['text'].apply(lambda text : translator.translate(text, dest='hi').text)\n"
      ],
      "execution_count": null,
      "outputs": [
        {
          "output_type": "error",
          "ename": "AttributeError",
          "evalue": "ignored",
          "traceback": [
            "\u001b[0;31m---------------------------------------------------------------------------\u001b[0m",
            "\u001b[0;31mAttributeError\u001b[0m                            Traceback (most recent call last)",
            "\u001b[0;32m<ipython-input-34-42ce144631db>\u001b[0m in \u001b[0;36m<module>\u001b[0;34m()\u001b[0m\n\u001b[1;32m      3\u001b[0m \u001b[0mtranslator\u001b[0m\u001b[0;34m=\u001b[0m\u001b[0mTranslator\u001b[0m\u001b[0;34m(\u001b[0m\u001b[0;34m)\u001b[0m\u001b[0;34m\u001b[0m\u001b[0;34m\u001b[0m\u001b[0m\n\u001b[1;32m      4\u001b[0m \u001b[0mdf_bangla\u001b[0m \u001b[0;34m=\u001b[0m \u001b[0mdf\u001b[0m\u001b[0;34m.\u001b[0m\u001b[0mcopy\u001b[0m\u001b[0;34m(\u001b[0m\u001b[0;34m)\u001b[0m\u001b[0;34m\u001b[0m\u001b[0;34m\u001b[0m\u001b[0m\n\u001b[0;32m----> 5\u001b[0;31m \u001b[0mdf_bangla\u001b[0m\u001b[0;34m[\u001b[0m\u001b[0;34m'text'\u001b[0m\u001b[0;34m]\u001b[0m \u001b[0;34m=\u001b[0m \u001b[0mdf_bangla\u001b[0m\u001b[0;34m[\u001b[0m\u001b[0;34m'text'\u001b[0m\u001b[0;34m]\u001b[0m\u001b[0;34m.\u001b[0m\u001b[0mapply\u001b[0m\u001b[0;34m(\u001b[0m\u001b[0;32mlambda\u001b[0m \u001b[0mtext\u001b[0m \u001b[0;34m:\u001b[0m \u001b[0mtranslator\u001b[0m\u001b[0;34m.\u001b[0m\u001b[0mtranslate\u001b[0m\u001b[0;34m(\u001b[0m\u001b[0mtext\u001b[0m\u001b[0;34m,\u001b[0m \u001b[0mdest\u001b[0m\u001b[0;34m=\u001b[0m\u001b[0;34m'bn'\u001b[0m\u001b[0;34m)\u001b[0m\u001b[0;34m.\u001b[0m\u001b[0mtext\u001b[0m\u001b[0;34m)\u001b[0m\u001b[0;34m\u001b[0m\u001b[0;34m\u001b[0m\u001b[0m\n\u001b[0m\u001b[1;32m      6\u001b[0m \u001b[0;34m\u001b[0m\u001b[0m\n\u001b[1;32m      7\u001b[0m \u001b[0;31m# df_hindi = df.copy()\u001b[0m\u001b[0;34m\u001b[0m\u001b[0;34m\u001b[0m\u001b[0;34m\u001b[0m\u001b[0m\n",
            "\u001b[0;32m/usr/local/lib/python3.7/dist-packages/pandas/core/series.py\u001b[0m in \u001b[0;36mapply\u001b[0;34m(self, func, convert_dtype, args, **kwds)\u001b[0m\n\u001b[1;32m   4211\u001b[0m             \u001b[0;32melse\u001b[0m\u001b[0;34m:\u001b[0m\u001b[0;34m\u001b[0m\u001b[0;34m\u001b[0m\u001b[0m\n\u001b[1;32m   4212\u001b[0m                 \u001b[0mvalues\u001b[0m \u001b[0;34m=\u001b[0m \u001b[0mself\u001b[0m\u001b[0;34m.\u001b[0m\u001b[0mastype\u001b[0m\u001b[0;34m(\u001b[0m\u001b[0mobject\u001b[0m\u001b[0;34m)\u001b[0m\u001b[0;34m.\u001b[0m\u001b[0m_values\u001b[0m\u001b[0;34m\u001b[0m\u001b[0;34m\u001b[0m\u001b[0m\n\u001b[0;32m-> 4213\u001b[0;31m                 \u001b[0mmapped\u001b[0m \u001b[0;34m=\u001b[0m \u001b[0mlib\u001b[0m\u001b[0;34m.\u001b[0m\u001b[0mmap_infer\u001b[0m\u001b[0;34m(\u001b[0m\u001b[0mvalues\u001b[0m\u001b[0;34m,\u001b[0m \u001b[0mf\u001b[0m\u001b[0;34m,\u001b[0m \u001b[0mconvert\u001b[0m\u001b[0;34m=\u001b[0m\u001b[0mconvert_dtype\u001b[0m\u001b[0;34m)\u001b[0m\u001b[0;34m\u001b[0m\u001b[0;34m\u001b[0m\u001b[0m\n\u001b[0m\u001b[1;32m   4214\u001b[0m \u001b[0;34m\u001b[0m\u001b[0m\n\u001b[1;32m   4215\u001b[0m         \u001b[0;32mif\u001b[0m \u001b[0mlen\u001b[0m\u001b[0;34m(\u001b[0m\u001b[0mmapped\u001b[0m\u001b[0;34m)\u001b[0m \u001b[0;32mand\u001b[0m \u001b[0misinstance\u001b[0m\u001b[0;34m(\u001b[0m\u001b[0mmapped\u001b[0m\u001b[0;34m[\u001b[0m\u001b[0;36m0\u001b[0m\u001b[0;34m]\u001b[0m\u001b[0;34m,\u001b[0m \u001b[0mSeries\u001b[0m\u001b[0;34m)\u001b[0m\u001b[0;34m:\u001b[0m\u001b[0;34m\u001b[0m\u001b[0;34m\u001b[0m\u001b[0m\n",
            "\u001b[0;32mpandas/_libs/lib.pyx\u001b[0m in \u001b[0;36mpandas._libs.lib.map_infer\u001b[0;34m()\u001b[0m\n",
            "\u001b[0;32m<ipython-input-34-42ce144631db>\u001b[0m in \u001b[0;36m<lambda>\u001b[0;34m(text)\u001b[0m\n\u001b[1;32m      3\u001b[0m \u001b[0mtranslator\u001b[0m\u001b[0;34m=\u001b[0m\u001b[0mTranslator\u001b[0m\u001b[0;34m(\u001b[0m\u001b[0;34m)\u001b[0m\u001b[0;34m\u001b[0m\u001b[0;34m\u001b[0m\u001b[0m\n\u001b[1;32m      4\u001b[0m \u001b[0mdf_bangla\u001b[0m \u001b[0;34m=\u001b[0m \u001b[0mdf\u001b[0m\u001b[0;34m.\u001b[0m\u001b[0mcopy\u001b[0m\u001b[0;34m(\u001b[0m\u001b[0;34m)\u001b[0m\u001b[0;34m\u001b[0m\u001b[0;34m\u001b[0m\u001b[0m\n\u001b[0;32m----> 5\u001b[0;31m \u001b[0mdf_bangla\u001b[0m\u001b[0;34m[\u001b[0m\u001b[0;34m'text'\u001b[0m\u001b[0;34m]\u001b[0m \u001b[0;34m=\u001b[0m \u001b[0mdf_bangla\u001b[0m\u001b[0;34m[\u001b[0m\u001b[0;34m'text'\u001b[0m\u001b[0;34m]\u001b[0m\u001b[0;34m.\u001b[0m\u001b[0mapply\u001b[0m\u001b[0;34m(\u001b[0m\u001b[0;32mlambda\u001b[0m \u001b[0mtext\u001b[0m \u001b[0;34m:\u001b[0m \u001b[0mtranslator\u001b[0m\u001b[0;34m.\u001b[0m\u001b[0mtranslate\u001b[0m\u001b[0;34m(\u001b[0m\u001b[0mtext\u001b[0m\u001b[0;34m,\u001b[0m \u001b[0mdest\u001b[0m\u001b[0;34m=\u001b[0m\u001b[0;34m'bn'\u001b[0m\u001b[0;34m)\u001b[0m\u001b[0;34m.\u001b[0m\u001b[0mtext\u001b[0m\u001b[0;34m)\u001b[0m\u001b[0;34m\u001b[0m\u001b[0;34m\u001b[0m\u001b[0m\n\u001b[0m\u001b[1;32m      6\u001b[0m \u001b[0;34m\u001b[0m\u001b[0m\n\u001b[1;32m      7\u001b[0m \u001b[0;31m# df_hindi = df.copy()\u001b[0m\u001b[0;34m\u001b[0m\u001b[0;34m\u001b[0m\u001b[0;34m\u001b[0m\u001b[0m\n",
            "\u001b[0;32m/usr/local/lib/python3.7/dist-packages/googletrans/client.py\u001b[0m in \u001b[0;36mtranslate\u001b[0;34m(self, text, dest, src)\u001b[0m\n\u001b[1;32m    192\u001b[0m \u001b[0;34m\u001b[0m\u001b[0m\n\u001b[1;32m    193\u001b[0m         \u001b[0morigin\u001b[0m \u001b[0;34m=\u001b[0m \u001b[0mtext\u001b[0m\u001b[0;34m\u001b[0m\u001b[0;34m\u001b[0m\u001b[0m\n\u001b[0;32m--> 194\u001b[0;31m         \u001b[0mdata\u001b[0m\u001b[0;34m,\u001b[0m \u001b[0mresponse\u001b[0m \u001b[0;34m=\u001b[0m \u001b[0mself\u001b[0m\u001b[0;34m.\u001b[0m\u001b[0m_translate\u001b[0m\u001b[0;34m(\u001b[0m\u001b[0mtext\u001b[0m\u001b[0;34m,\u001b[0m \u001b[0mdest\u001b[0m\u001b[0;34m,\u001b[0m \u001b[0msrc\u001b[0m\u001b[0;34m)\u001b[0m\u001b[0;34m\u001b[0m\u001b[0;34m\u001b[0m\u001b[0m\n\u001b[0m\u001b[1;32m    195\u001b[0m \u001b[0;34m\u001b[0m\u001b[0m\n\u001b[1;32m    196\u001b[0m         \u001b[0mtoken_found\u001b[0m \u001b[0;34m=\u001b[0m \u001b[0;32mFalse\u001b[0m\u001b[0;34m\u001b[0m\u001b[0;34m\u001b[0m\u001b[0m\n",
            "\u001b[0;32m/usr/local/lib/python3.7/dist-packages/googletrans/client.py\u001b[0m in \u001b[0;36m_translate\u001b[0;34m(self, text, dest, src)\u001b[0m\n\u001b[1;32m    120\u001b[0m         \u001b[0mr\u001b[0m \u001b[0;34m=\u001b[0m \u001b[0mself\u001b[0m\u001b[0;34m.\u001b[0m\u001b[0mclient\u001b[0m\u001b[0;34m.\u001b[0m\u001b[0mpost\u001b[0m\u001b[0;34m(\u001b[0m\u001b[0murl\u001b[0m\u001b[0;34m,\u001b[0m \u001b[0mparams\u001b[0m\u001b[0;34m=\u001b[0m\u001b[0mparams\u001b[0m\u001b[0;34m,\u001b[0m \u001b[0mdata\u001b[0m\u001b[0;34m=\u001b[0m\u001b[0mdata\u001b[0m\u001b[0;34m)\u001b[0m\u001b[0;34m\u001b[0m\u001b[0;34m\u001b[0m\u001b[0m\n\u001b[1;32m    121\u001b[0m \u001b[0;34m\u001b[0m\u001b[0m\n\u001b[0;32m--> 122\u001b[0;31m         \u001b[0;32mif\u001b[0m \u001b[0mr\u001b[0m\u001b[0;34m.\u001b[0m\u001b[0mstatus_code\u001b[0m \u001b[0;34m!=\u001b[0m \u001b[0;36m12300\u001b[0m \u001b[0;32mand\u001b[0m \u001b[0mself\u001b[0m\u001b[0;34m.\u001b[0m\u001b[0mraise_Exception\u001b[0m\u001b[0;34m:\u001b[0m\u001b[0;34m\u001b[0m\u001b[0;34m\u001b[0m\u001b[0m\n\u001b[0m\u001b[1;32m    123\u001b[0m             raise Exception('Unexpected status code \"{}\" from {}'.format(\n\u001b[1;32m    124\u001b[0m                 r.status_code, self.service_urls))\n",
            "\u001b[0;31mAttributeError\u001b[0m: 'Translator' object has no attribute 'raise_Exception'"
          ]
        }
      ]
    },
    {
      "cell_type": "code",
      "metadata": {
        "id": "TixPkG6zkgxE"
      },
      "source": [
        "df_bangla"
      ],
      "execution_count": null,
      "outputs": []
    },
    {
      "cell_type": "code",
      "metadata": {
        "colab": {
          "base_uri": "https://localhost:8080/",
          "height": 402
        },
        "id": "ZHBSUDBRUznT",
        "outputId": "4dec3d4a-0569-4372-e99e-cd8d13d70a4a"
      },
      "source": [
        "df_hindi"
      ],
      "execution_count": null,
      "outputs": [
        {
          "output_type": "execute_result",
          "data": {
            "text/html": [
              "<div>\n",
              "<style scoped>\n",
              "    .dataframe tbody tr th:only-of-type {\n",
              "        vertical-align: middle;\n",
              "    }\n",
              "\n",
              "    .dataframe tbody tr th {\n",
              "        vertical-align: top;\n",
              "    }\n",
              "\n",
              "    .dataframe thead th {\n",
              "        text-align: right;\n",
              "    }\n",
              "</style>\n",
              "<table border=\"1\" class=\"dataframe\">\n",
              "  <thead>\n",
              "    <tr style=\"text-align: right;\">\n",
              "      <th></th>\n",
              "      <th>tweet_id</th>\n",
              "      <th>text</th>\n",
              "      <th>Has_Verifiable_Claim</th>\n",
              "    </tr>\n",
              "  </thead>\n",
              "  <tbody>\n",
              "    <tr>\n",
              "      <th>0</th>\n",
              "      <td>1241025578527903750</td>\n",
              "      <td>औसत अमेरिकी के लिए यह बताने का सबसे अच्छा तरीक...</td>\n",
              "      <td>no</td>\n",
              "    </tr>\n",
              "    <tr>\n",
              "      <th>1</th>\n",
              "      <td>1240467080954228737</td>\n",
              "      <td>यह बकवास बकवास है</td>\n",
              "      <td>no</td>\n",
              "    </tr>\n",
              "    <tr>\n",
              "      <th>2</th>\n",
              "      <td>1240716889162018816</td>\n",
              "      <td>क्या आप केवल सरकार के निर्देशों का पालन कर सकत...</td>\n",
              "      <td>no</td>\n",
              "    </tr>\n",
              "    <tr>\n",
              "      <th>3</th>\n",
              "      <td>1241062514886090754</td>\n",
              "      <td>कोई अपराध नहीं है लेकिन अप्रैल से पहले कोरोना ...</td>\n",
              "      <td>no</td>\n",
              "    </tr>\n",
              "    <tr>\n",
              "      <th>4</th>\n",
              "      <td>1241447017945223169</td>\n",
              "      <td>यह किसी ऐसे व्यक्ति का चेहरा है जिसने लंदन के ...</td>\n",
              "      <td>yes</td>\n",
              "    </tr>\n",
              "    <tr>\n",
              "      <th>...</th>\n",
              "      <td>...</td>\n",
              "      <td>...</td>\n",
              "      <td>...</td>\n",
              "    </tr>\n",
              "    <tr>\n",
              "      <th>499</th>\n",
              "      <td>1235967176475111432</td>\n",
              "      <td>कोरोनवायरस मौत दर के बारे में राष्ट्रपति ट्रम्...</td>\n",
              "      <td>yes</td>\n",
              "    </tr>\n",
              "    <tr>\n",
              "      <th>500</th>\n",
              "      <td>1236056191324864515</td>\n",
              "      <td>दवा कंपनियों ने कोरोना वायरस फंडिंग बिल में एक...</td>\n",
              "      <td>yes</td>\n",
              "    </tr>\n",
              "    <tr>\n",
              "      <th>501</th>\n",
              "      <td>1235987075440283648</td>\n",
              "      <td>क्या @TWITTी में एक टीम है जो कॉविड -19 अफ्रीड...</td>\n",
              "      <td>no</td>\n",
              "    </tr>\n",
              "    <tr>\n",
              "      <th>502</th>\n",
              "      <td>1235959558058754048</td>\n",
              "      <td>#Fox pandemic का कारण बनता है #foxnews फैल रहा...</td>\n",
              "      <td>yes</td>\n",
              "    </tr>\n",
              "    <tr>\n",
              "      <th>503</th>\n",
              "      <td>1235985070009221120</td>\n",
              "      <td>Nurtw Lagos पहले से ही अपने लोगों को # covid19...</td>\n",
              "      <td>yes</td>\n",
              "    </tr>\n",
              "  </tbody>\n",
              "</table>\n",
              "<p>504 rows × 3 columns</p>\n",
              "</div>"
            ],
            "text/plain": [
              "                tweet_id  ... Has_Verifiable_Claim\n",
              "0    1241025578527903750  ...                   no\n",
              "1    1240467080954228737  ...                   no\n",
              "2    1240716889162018816  ...                   no\n",
              "3    1241062514886090754  ...                   no\n",
              "4    1241447017945223169  ...                  yes\n",
              "..                   ...  ...                  ...\n",
              "499  1235967176475111432  ...                  yes\n",
              "500  1236056191324864515  ...                  yes\n",
              "501  1235987075440283648  ...                   no\n",
              "502  1235959558058754048  ...                  yes\n",
              "503  1235985070009221120  ...                  yes\n",
              "\n",
              "[504 rows x 3 columns]"
            ]
          },
          "metadata": {
            "tags": []
          },
          "execution_count": 8
        }
      ]
    },
    {
      "cell_type": "code",
      "metadata": {
        "id": "rHHunCzBVvVO"
      },
      "source": [
        "# df_hindi.to_csv(\"/gdrive/My Drive/Major/Dataset/Scrapping tweets dem/covid_tweets_in_bengali.csv\",index=False)\n",
        "df_hindi.to_csv('yhin_hostile.csv')"
      ],
      "execution_count": null,
      "outputs": []
    },
    {
      "cell_type": "code",
      "metadata": {
        "colab": {
          "base_uri": "https://localhost:8080/"
        },
        "id": "cWtaAl0bQQQz",
        "outputId": "c64e0442-6479-4ad6-8678-0aaef19a8aee"
      },
      "source": [
        "from google.colab import drive\n",
        "drive.mount('/gdrive')"
      ],
      "execution_count": null,
      "outputs": [
        {
          "output_type": "stream",
          "text": [
            "Mounted at /gdrive\n"
          ],
          "name": "stdout"
        }
      ]
    },
    {
      "cell_type": "code",
      "metadata": {
        "id": "KZ5LIZMoNKU6"
      },
      "source": [
        "#drop rows with english text\n",
        "# translater.detect_language(row['text'])\n",
        "#idx_drop_bn = [index for index, row in df_bangla.iterrows() if translator.detect(row['text']).lang == 'en']\n",
        "idx_drop_hi = [index for index, row in df_hindi.iterrows() if translator.detect(row['text']).lang == 'en']"
      ],
      "execution_count": null,
      "outputs": []
    },
    {
      "cell_type": "code",
      "metadata": {
        "colab": {
          "base_uri": "https://localhost:8080/"
        },
        "id": "NPuXpK82UrPw",
        "outputId": "7d579f2f-95b3-4362-b037-8e207b233425"
      },
      "source": [
        "idx_drop_hi"
      ],
      "execution_count": null,
      "outputs": [
        {
          "output_type": "execute_result",
          "data": {
            "text/plain": [
              "[102,\n",
              " 103,\n",
              " 104,\n",
              " 105,\n",
              " 106,\n",
              " 107,\n",
              " 108,\n",
              " 109,\n",
              " 110,\n",
              " 111,\n",
              " 112,\n",
              " 113,\n",
              " 114,\n",
              " 115,\n",
              " 116,\n",
              " 117,\n",
              " 118,\n",
              " 119,\n",
              " 120,\n",
              " 121,\n",
              " 122,\n",
              " 123,\n",
              " 124,\n",
              " 125,\n",
              " 126,\n",
              " 127,\n",
              " 128,\n",
              " 129,\n",
              " 130,\n",
              " 131,\n",
              " 132,\n",
              " 133,\n",
              " 134,\n",
              " 135,\n",
              " 136,\n",
              " 137,\n",
              " 138,\n",
              " 139,\n",
              " 140,\n",
              " 141,\n",
              " 142,\n",
              " 143,\n",
              " 144,\n",
              " 145,\n",
              " 146,\n",
              " 147,\n",
              " 148,\n",
              " 149,\n",
              " 150,\n",
              " 151,\n",
              " 152,\n",
              " 153,\n",
              " 154,\n",
              " 155,\n",
              " 156,\n",
              " 157,\n",
              " 158,\n",
              " 159,\n",
              " 160,\n",
              " 161,\n",
              " 162,\n",
              " 163,\n",
              " 164,\n",
              " 165,\n",
              " 166,\n",
              " 167,\n",
              " 168,\n",
              " 169,\n",
              " 170,\n",
              " 171,\n",
              " 172,\n",
              " 173,\n",
              " 174,\n",
              " 175,\n",
              " 176,\n",
              " 177,\n",
              " 178,\n",
              " 179,\n",
              " 180,\n",
              " 181,\n",
              " 182,\n",
              " 183,\n",
              " 184,\n",
              " 185,\n",
              " 186,\n",
              " 187,\n",
              " 188,\n",
              " 189,\n",
              " 190,\n",
              " 191,\n",
              " 192,\n",
              " 193,\n",
              " 194,\n",
              " 195,\n",
              " 196,\n",
              " 197,\n",
              " 198,\n",
              " 199,\n",
              " 200,\n",
              " 201,\n",
              " 202,\n",
              " 203,\n",
              " 204,\n",
              " 205,\n",
              " 206,\n",
              " 207,\n",
              " 208,\n",
              " 209,\n",
              " 210,\n",
              " 211,\n",
              " 212,\n",
              " 213,\n",
              " 214,\n",
              " 215,\n",
              " 216,\n",
              " 217,\n",
              " 218,\n",
              " 219,\n",
              " 220,\n",
              " 221,\n",
              " 222,\n",
              " 223,\n",
              " 224,\n",
              " 225,\n",
              " 226,\n",
              " 227,\n",
              " 228,\n",
              " 229,\n",
              " 230,\n",
              " 231,\n",
              " 232,\n",
              " 233,\n",
              " 234,\n",
              " 235,\n",
              " 236,\n",
              " 237,\n",
              " 238,\n",
              " 239,\n",
              " 240,\n",
              " 241,\n",
              " 242,\n",
              " 243,\n",
              " 244,\n",
              " 245,\n",
              " 246,\n",
              " 247,\n",
              " 248,\n",
              " 249,\n",
              " 250,\n",
              " 251,\n",
              " 252,\n",
              " 253,\n",
              " 254,\n",
              " 255,\n",
              " 256,\n",
              " 257,\n",
              " 258,\n",
              " 259,\n",
              " 260,\n",
              " 261,\n",
              " 262,\n",
              " 263,\n",
              " 264,\n",
              " 265,\n",
              " 266,\n",
              " 267,\n",
              " 268,\n",
              " 269,\n",
              " 270,\n",
              " 271,\n",
              " 272,\n",
              " 273,\n",
              " 274,\n",
              " 275,\n",
              " 276,\n",
              " 277,\n",
              " 278,\n",
              " 279,\n",
              " 280,\n",
              " 281,\n",
              " 282,\n",
              " 283,\n",
              " 284,\n",
              " 285,\n",
              " 286,\n",
              " 287,\n",
              " 288,\n",
              " 289,\n",
              " 290,\n",
              " 291,\n",
              " 292,\n",
              " 293,\n",
              " 294,\n",
              " 295,\n",
              " 296,\n",
              " 297,\n",
              " 298,\n",
              " 299,\n",
              " 300,\n",
              " 301,\n",
              " 302,\n",
              " 303,\n",
              " 304,\n",
              " 305,\n",
              " 306,\n",
              " 307,\n",
              " 308,\n",
              " 309,\n",
              " 310,\n",
              " 311,\n",
              " 312,\n",
              " 313,\n",
              " 314,\n",
              " 315,\n",
              " 316,\n",
              " 317,\n",
              " 318,\n",
              " 319,\n",
              " 320,\n",
              " 321,\n",
              " 322,\n",
              " 323,\n",
              " 324,\n",
              " 325,\n",
              " 326,\n",
              " 327,\n",
              " 328,\n",
              " 329,\n",
              " 330,\n",
              " 331,\n",
              " 332,\n",
              " 333,\n",
              " 334,\n",
              " 335,\n",
              " 336,\n",
              " 337,\n",
              " 338,\n",
              " 339,\n",
              " 340,\n",
              " 341,\n",
              " 342,\n",
              " 343,\n",
              " 344,\n",
              " 345,\n",
              " 346,\n",
              " 347,\n",
              " 348,\n",
              " 349,\n",
              " 350,\n",
              " 351,\n",
              " 352,\n",
              " 353,\n",
              " 354,\n",
              " 355,\n",
              " 356,\n",
              " 357,\n",
              " 358,\n",
              " 359,\n",
              " 360,\n",
              " 361,\n",
              " 362,\n",
              " 363,\n",
              " 364,\n",
              " 365,\n",
              " 366,\n",
              " 367,\n",
              " 368,\n",
              " 369,\n",
              " 370,\n",
              " 371,\n",
              " 372,\n",
              " 373,\n",
              " 374,\n",
              " 375,\n",
              " 376,\n",
              " 377,\n",
              " 378,\n",
              " 379,\n",
              " 380,\n",
              " 381,\n",
              " 382,\n",
              " 383,\n",
              " 384,\n",
              " 385,\n",
              " 386,\n",
              " 387,\n",
              " 388,\n",
              " 389,\n",
              " 390,\n",
              " 391,\n",
              " 392,\n",
              " 393,\n",
              " 394,\n",
              " 395,\n",
              " 396,\n",
              " 397,\n",
              " 398,\n",
              " 399,\n",
              " 400,\n",
              " 401,\n",
              " 402,\n",
              " 403,\n",
              " 404,\n",
              " 405,\n",
              " 406,\n",
              " 407,\n",
              " 408,\n",
              " 409,\n",
              " 410,\n",
              " 411,\n",
              " 412,\n",
              " 413,\n",
              " 414,\n",
              " 415,\n",
              " 416,\n",
              " 417,\n",
              " 418,\n",
              " 419,\n",
              " 420,\n",
              " 421,\n",
              " 422,\n",
              " 423,\n",
              " 424,\n",
              " 425,\n",
              " 426,\n",
              " 427,\n",
              " 428,\n",
              " 429,\n",
              " 430,\n",
              " 431,\n",
              " 432,\n",
              " 433,\n",
              " 434,\n",
              " 435,\n",
              " 436,\n",
              " 437,\n",
              " 438,\n",
              " 439,\n",
              " 440,\n",
              " 441,\n",
              " 442,\n",
              " 443,\n",
              " 444,\n",
              " 445,\n",
              " 446,\n",
              " 447,\n",
              " 448,\n",
              " 449,\n",
              " 450,\n",
              " 451,\n",
              " 452,\n",
              " 453,\n",
              " 454,\n",
              " 455,\n",
              " 456,\n",
              " 457,\n",
              " 458,\n",
              " 459,\n",
              " 460,\n",
              " 461,\n",
              " 462,\n",
              " 463,\n",
              " 464,\n",
              " 465,\n",
              " 466,\n",
              " 467,\n",
              " 468,\n",
              " 469,\n",
              " 470,\n",
              " 471,\n",
              " 472,\n",
              " 473,\n",
              " 474,\n",
              " 475,\n",
              " 476,\n",
              " 477,\n",
              " 478,\n",
              " 479,\n",
              " 480,\n",
              " 481,\n",
              " 482,\n",
              " 483,\n",
              " 484,\n",
              " 485,\n",
              " 486,\n",
              " 487,\n",
              " 488,\n",
              " 489,\n",
              " 490,\n",
              " 491,\n",
              " 492,\n",
              " 493,\n",
              " 494,\n",
              " 495,\n",
              " 496,\n",
              " 497,\n",
              " 498,\n",
              " 499,\n",
              " 500,\n",
              " 501,\n",
              " 502,\n",
              " 503]"
            ]
          },
          "metadata": {
            "tags": []
          },
          "execution_count": 9
        }
      ]
    },
    {
      "cell_type": "code",
      "metadata": {
        "colab": {
          "base_uri": "https://localhost:8080/"
        },
        "id": "EnOZfhQwNKU8",
        "outputId": "234194b4-16c1-496a-a27e-9623115a8401"
      },
      "source": [
        "df_hindi_mod = df_hindi.copy()\n",
        "df_hindi_mod = df_hindi_mod.drop(idx_drop_hi)\n",
        "print(len(df_hindi_mod))"
      ],
      "execution_count": null,
      "outputs": [
        {
          "output_type": "stream",
          "text": [
            "102\n"
          ],
          "name": "stdout"
        }
      ]
    },
    {
      "cell_type": "code",
      "metadata": {
        "id": "5AT8z5hPNKU-",
        "outputId": "f106a9de-86b9-45d5-82b8-27114fb3643f"
      },
      "source": [
        "df_bangla_mod = df_bangla.copy()\n",
        "df_bangla_mod = df_bangla_mod.drop(idx_drop_bn)\n",
        "print(len(df_bangla_mod))"
      ],
      "execution_count": null,
      "outputs": [
        {
          "output_type": "stream",
          "text": [
            "380\n"
          ],
          "name": "stdout"
        }
      ]
    },
    {
      "cell_type": "code",
      "metadata": {
        "id": "igd6wCRKNKU_",
        "outputId": "6fafc80f-4946-4ae6-ec4c-ab5e7e1b2e99"
      },
      "source": [
        "df_bangla_mod"
      ],
      "execution_count": null,
      "outputs": [
        {
          "output_type": "execute_result",
          "data": {
            "text/html": [
              "<div>\n",
              "<style scoped>\n",
              "    .dataframe tbody tr th:only-of-type {\n",
              "        vertical-align: middle;\n",
              "    }\n",
              "\n",
              "    .dataframe tbody tr th {\n",
              "        vertical-align: top;\n",
              "    }\n",
              "\n",
              "    .dataframe thead th {\n",
              "        text-align: right;\n",
              "    }\n",
              "</style>\n",
              "<table border=\"1\" class=\"dataframe\">\n",
              "  <thead>\n",
              "    <tr style=\"text-align: right;\">\n",
              "      <th></th>\n",
              "      <th>tweet_id</th>\n",
              "      <th>text</th>\n",
              "      <th>Has_Verifiable_Claim</th>\n",
              "    </tr>\n",
              "  </thead>\n",
              "  <tbody>\n",
              "    <tr>\n",
              "      <th>0</th>\n",
              "      <td>1241025578527903750</td>\n",
              "      <td>গড় আমেরিকানদের কাছে আপনার কোভিড -১৯ আছে কিনা ...</td>\n",
              "      <td>no</td>\n",
              "    </tr>\n",
              "    <tr>\n",
              "      <th>1</th>\n",
              "      <td>1240467080954228737</td>\n",
              "      <td>এই বকশি বাজানো হয়</td>\n",
              "      <td>no</td>\n",
              "    </tr>\n",
              "    <tr>\n",
              "      <th>2</th>\n",
              "      <td>1240716889162018816</td>\n",
              "      <td>আপনি কি দয়া করে কেবলমাত্র সরকারের নির্দেশাবলী...</td>\n",
              "      <td>no</td>\n",
              "    </tr>\n",
              "    <tr>\n",
              "      <th>3</th>\n",
              "      <td>1241062514886090754</td>\n",
              "      <td>কোনও অপরাধ নয় তবে এপ্রিলের আগে সফল হওয়ার আগে...</td>\n",
              "      <td>no</td>\n",
              "    </tr>\n",
              "    <tr>\n",
              "      <th>4</th>\n",
              "      <td>1241447017945223169</td>\n",
              "      <td>লন্ডনের আশেপাশের গুরুতর অসুস্থ কোভিড ১৯ রোগীদে...</td>\n",
              "      <td>yes</td>\n",
              "    </tr>\n",
              "    <tr>\n",
              "      <th>...</th>\n",
              "      <td>...</td>\n",
              "      <td>...</td>\n",
              "      <td>...</td>\n",
              "    </tr>\n",
              "    <tr>\n",
              "      <th>423</th>\n",
              "      <td>1237585675571974145</td>\n",
              "      <td>যদি এই টুইটটিতে 10 কেটি আরটি হয়, আমি লিন উপত্...</td>\n",
              "      <td>no</td>\n",
              "    </tr>\n",
              "    <tr>\n",
              "      <th>426</th>\n",
              "      <td>1237412870192640005</td>\n",
              "      <td>আমাদের কীভাবে সম্ভাব্য COVID-19 ক্ষেত্রে যোগায...</td>\n",
              "      <td>no</td>\n",
              "    </tr>\n",
              "    <tr>\n",
              "      <th>427</th>\n",
              "      <td>1237219650456489984</td>\n",
              "      <td>মিডিয়া কর্নাভাইরাস পেয়ে কনজারভেটিভদের উদযাপন...</td>\n",
              "      <td>yes</td>\n",
              "    </tr>\n",
              "    <tr>\n",
              "      <th>429</th>\n",
              "      <td>1237137755651616770</td>\n",
              "      <td>যদি করোনা এখানে কেবলমাত্র লোকেরা পাচ্ছে তবে .....</td>\n",
              "      <td>no</td>\n",
              "    </tr>\n",
              "    <tr>\n",
              "      <th>436</th>\n",
              "      <td>1237608143519014913</td>\n",
              "      <td>তুমি কর. আমি শুনেছি এটি শূকরদের একটি বৃহতভাবে ...</td>\n",
              "      <td>no</td>\n",
              "    </tr>\n",
              "  </tbody>\n",
              "</table>\n",
              "<p>380 rows × 3 columns</p>\n",
              "</div>"
            ],
            "text/plain": [
              "                tweet_id                                               text  \\\n",
              "0    1241025578527903750  গড় আমেরিকানদের কাছে আপনার কোভিড -১৯ আছে কিনা ...   \n",
              "1    1240467080954228737                                 এই বকশি বাজানো হয়   \n",
              "2    1240716889162018816  আপনি কি দয়া করে কেবলমাত্র সরকারের নির্দেশাবলী...   \n",
              "3    1241062514886090754  কোনও অপরাধ নয় তবে এপ্রিলের আগে সফল হওয়ার আগে...   \n",
              "4    1241447017945223169  লন্ডনের আশেপাশের গুরুতর অসুস্থ কোভিড ১৯ রোগীদে...   \n",
              "..                   ...                                                ...   \n",
              "423  1237585675571974145  যদি এই টুইটটিতে 10 কেটি আরটি হয়, আমি লিন উপত্...   \n",
              "426  1237412870192640005  আমাদের কীভাবে সম্ভাব্য COVID-19 ক্ষেত্রে যোগায...   \n",
              "427  1237219650456489984  মিডিয়া কর্নাভাইরাস পেয়ে কনজারভেটিভদের উদযাপন...   \n",
              "429  1237137755651616770  যদি করোনা এখানে কেবলমাত্র লোকেরা পাচ্ছে তবে .....   \n",
              "436  1237608143519014913  তুমি কর. আমি শুনেছি এটি শূকরদের একটি বৃহতভাবে ...   \n",
              "\n",
              "    Has_Verifiable_Claim  \n",
              "0                     no  \n",
              "1                     no  \n",
              "2                     no  \n",
              "3                     no  \n",
              "4                    yes  \n",
              "..                   ...  \n",
              "423                   no  \n",
              "426                   no  \n",
              "427                  yes  \n",
              "429                   no  \n",
              "436                   no  \n",
              "\n",
              "[380 rows x 3 columns]"
            ]
          },
          "metadata": {
            "tags": []
          },
          "execution_count": 176
        }
      ]
    },
    {
      "cell_type": "code",
      "metadata": {
        "id": "UHQ6FPI5NKVB"
      },
      "source": [
        "def preprocess(df_lang):\n",
        "    \n",
        "    import re\n",
        "    tweets = {}\n",
        "    tweets['text_info'] = {}\n",
        "\n",
        "    #extract text\n",
        "    tweets['text'] = df_lang['text']\n",
        "    \n",
        "    #extract labels\n",
        "    tweets['labels'] = df_lang['Has_Verifiable_Claim'].apply(lambda label : 1 if label == 'yes' else 0)\n",
        "    \n",
        "    #text features\n",
        "    tweets['text_info']['len'] =  tweets['text'].apply(lambda x: len(x))\n",
        "    tweets['text_info']['num_of_upper_char'] = tweets['text'].apply(lambda text: sum([len([char for char in word if char.isupper()]) for word in text]))\n",
        "    tweets['text_info']['has_qmarks'] = tweets['text'].apply(lambda text: True if '?' in text else False) \n",
        "    tweets['text_info']['num_of_qmarks'] = tweets['text'].apply(lambda text: sum([len([char for char in word if char == '?']) for word in text])) \n",
        "    tweets['text_info']['has_exclmmarks'] = tweets['text'].apply(lambda text: True if '!' in text else False)\n",
        "    tweets['text_info']['num_of_exclmmarks'] = tweets['text'].apply(lambda text: sum([len([char for char in word if char == '!']) for word in text]))\n",
        "                                                \n",
        "    #lowercase all words\n",
        "    tweets['text'] = tweets['text'].apply(lambda x: x.lower())\n",
        "\n",
        "    #remove urls\n",
        "    url = r'http\\S+'\n",
        "    tweets['text'] = tweets['text'].apply(lambda x: re.sub(url, 'URL', x, flags=re.MULTILINE))\n",
        "\n",
        "    #remove emojis\n",
        "    emoji = re.compile(\"[\"         u\"\\U0001F600-\\U0001F64F\"  # emoticons\n",
        "                                   u\"\\U0001F300-\\U0001F5FF\"  # symbols & pictographs\n",
        "                                   u\"\\U0001F680-\\U0001F6FF\"  # transport & map symbols\n",
        "                                   u\"\\U0001F1E0-\\U0001F1FF\"  # flags (iOS)\n",
        "                                   u\"\\U00002500-\\U00002BEF\"  # chinese char\n",
        "                                   u\"\\U00002702-\\U000027B0\"\n",
        "                                   u\"\\U00002702-\\U000027B0\"\n",
        "                                   u\"\\U000024C2-\\U0001F251\"\n",
        "                                   u\"\\U0001f926-\\U0001f937\"\n",
        "                                   u\"\\U00010000-\\U0010ffff\"\n",
        "                                   u\"\\u2640-\\u2642\"\n",
        "                                   u\"\\u2600-\\u2B55\"\n",
        "                                   u\"\\u200d\"\n",
        "                                   u\"\\u23cf\"\n",
        "                                   u\"\\u23e9\"\n",
        "                                   u\"\\u231a\"\n",
        "                                   u\"\\ufe0f\"  # dingbats\n",
        "                                   u\"\\u3030\"\n",
        "                                   \"]+\", flags=re.UNICODE)\n",
        "    tweets['text'] = tweets['text'].apply(lambda x: emoji.sub(r'', x))\n",
        "    \n",
        "    \n",
        "    #uncomment for english\n",
        "    '''from ekphrasis.classes.segmenter import Segmenter\n",
        "    #segmenter using the word statistics from Twitter\n",
        "    #if not working..go to /anaconda3/envs/covidfake/lib/python3.6/site-packages/ekphrasis/examples..run demo_segmenter to create reqd files\n",
        "    #that will create stats file in your home directory : /home/debanjana_ibm/.ekphrasis/\n",
        "    seg_tw = Segmenter(corpus='twitter')\n",
        "    tweets['text'] = tweets['text'].apply(lambda x:[seg_tw.segment(word) for word in x])\n",
        "    tweets['text'] = tweets['text'].apply(lambda x:[word[1:] if word[0] == '#' else word for word in x])'''\n",
        "    tweets['text'] = tweets['text'].apply(lambda x:[word[1:] if word[0] == '#' else word for word in x.split()])\n",
        "    \n",
        "    #rejoin to form a sentence\n",
        "    tweets['text'] = tweets['text'].apply(lambda x: ''.join(x))\n",
        "    \n",
        "    \n",
        "    return tweets"
      ],
      "execution_count": null,
      "outputs": []
    },
    {
      "cell_type": "code",
      "metadata": {
        "colab": {
          "base_uri": "https://localhost:8080/"
        },
        "id": "tkdAmBDufWZL",
        "outputId": "47c26576-2cf9-44f9-dcfc-cbe57d4b7117"
      },
      "source": [
        "pip install ekphrasis"
      ],
      "execution_count": null,
      "outputs": [
        {
          "output_type": "stream",
          "text": [
            "Collecting ekphrasis\n",
            "\u001b[?25l  Downloading https://files.pythonhosted.org/packages/92/e6/37c59d65e78c3a2aaf662df58faca7250eb6b36c559b912a39a7ca204cfb/ekphrasis-0.5.1.tar.gz (80kB)\n",
            "\r\u001b[K     |████                            | 10kB 15.0MB/s eta 0:00:01\r\u001b[K     |████████▏                       | 20kB 21.1MB/s eta 0:00:01\r\u001b[K     |████████████▎                   | 30kB 14.9MB/s eta 0:00:01\r\u001b[K     |████████████████▍               | 40kB 10.7MB/s eta 0:00:01\r\u001b[K     |████████████████████▌           | 51kB 7.2MB/s eta 0:00:01\r\u001b[K     |████████████████████████▌       | 61kB 6.8MB/s eta 0:00:01\r\u001b[K     |████████████████████████████▋   | 71kB 7.6MB/s eta 0:00:01\r\u001b[K     |████████████████████████████████| 81kB 4.0MB/s \n",
            "\u001b[?25hRequirement already satisfied: termcolor in /usr/local/lib/python3.7/dist-packages (from ekphrasis) (1.1.0)\n",
            "Requirement already satisfied: tqdm in /usr/local/lib/python3.7/dist-packages (from ekphrasis) (4.41.1)\n",
            "Collecting colorama\n",
            "  Downloading https://files.pythonhosted.org/packages/44/98/5b86278fbbf250d239ae0ecb724f8572af1c91f4a11edf4d36a206189440/colorama-0.4.4-py2.py3-none-any.whl\n",
            "Collecting ujson\n",
            "\u001b[?25l  Downloading https://files.pythonhosted.org/packages/17/4e/50e8e4cf5f00b537095711c2c86ac4d7191aed2b4fffd5a19f06898f6929/ujson-4.0.2-cp37-cp37m-manylinux1_x86_64.whl (179kB)\n",
            "\u001b[K     |████████████████████████████████| 184kB 13.6MB/s \n",
            "\u001b[?25hRequirement already satisfied: matplotlib in /usr/local/lib/python3.7/dist-packages (from ekphrasis) (3.2.2)\n",
            "Requirement already satisfied: nltk in /usr/local/lib/python3.7/dist-packages (from ekphrasis) (3.2.5)\n",
            "Collecting ftfy\n",
            "\u001b[?25l  Downloading https://files.pythonhosted.org/packages/ce/b5/5da463f9c7823e0e575e9908d004e2af4b36efa8d02d3d6dad57094fcb11/ftfy-6.0.1.tar.gz (63kB)\n",
            "\u001b[K     |████████████████████████████████| 71kB 5.1MB/s \n",
            "\u001b[?25hRequirement already satisfied: numpy in /usr/local/lib/python3.7/dist-packages (from ekphrasis) (1.19.5)\n",
            "Requirement already satisfied: pyparsing!=2.0.4,!=2.1.2,!=2.1.6,>=2.0.1 in /usr/local/lib/python3.7/dist-packages (from matplotlib->ekphrasis) (2.4.7)\n",
            "Requirement already satisfied: python-dateutil>=2.1 in /usr/local/lib/python3.7/dist-packages (from matplotlib->ekphrasis) (2.8.1)\n",
            "Requirement already satisfied: cycler>=0.10 in /usr/local/lib/python3.7/dist-packages (from matplotlib->ekphrasis) (0.10.0)\n",
            "Requirement already satisfied: kiwisolver>=1.0.1 in /usr/local/lib/python3.7/dist-packages (from matplotlib->ekphrasis) (1.3.1)\n",
            "Requirement already satisfied: six in /usr/local/lib/python3.7/dist-packages (from nltk->ekphrasis) (1.15.0)\n",
            "Requirement already satisfied: wcwidth in /usr/local/lib/python3.7/dist-packages (from ftfy->ekphrasis) (0.2.5)\n",
            "Building wheels for collected packages: ekphrasis, ftfy\n",
            "  Building wheel for ekphrasis (setup.py) ... \u001b[?25l\u001b[?25hdone\n",
            "  Created wheel for ekphrasis: filename=ekphrasis-0.5.1-cp37-none-any.whl size=82844 sha256=4f5e5efc5ecba2f50fba02b630ae133a476992309c92f3a315864579da7f7448\n",
            "  Stored in directory: /root/.cache/pip/wheels/2f/c5/9b/c9b60f535a2cf9fdbc92d84c4801a010c35a9cd348011ed2a1\n",
            "  Building wheel for ftfy (setup.py) ... \u001b[?25l\u001b[?25hdone\n",
            "  Created wheel for ftfy: filename=ftfy-6.0.1-cp37-none-any.whl size=41573 sha256=c4fc7dcf2e161d484a3241f1b7534dfb4a31d677d33b86f6a74160895c2c3535\n",
            "  Stored in directory: /root/.cache/pip/wheels/ae/73/c7/9056e14b04919e5c262fe80b54133b1a88d73683d05d7ac65c\n",
            "Successfully built ekphrasis ftfy\n",
            "Installing collected packages: colorama, ujson, ftfy, ekphrasis\n",
            "Successfully installed colorama-0.4.4 ekphrasis-0.5.1 ftfy-6.0.1 ujson-4.0.2\n"
          ],
          "name": "stdout"
        }
      ]
    },
    {
      "cell_type": "code",
      "metadata": {
        "colab": {
          "base_uri": "https://localhost:8080/"
        },
        "id": "tF5X0M1xNKVE",
        "scrolled": true,
        "outputId": "cb259d2a-0c8e-4a81-89c1-c333df1bda41"
      },
      "source": [
        "#preprocessing English tweets\n",
        "tweets = preprocess(df)\n",
        "#length of tweets\n",
        "print(len(tweets['text']))\n",
        "print('-------------------------------------------')\n",
        "#original text\n",
        "print('Original message : ', df.iloc[502]['text'] )\n",
        "print('-------------------------------------------')\n",
        "#preprocessed text\n",
        "print('Preprocessed message : ', tweets['text'][502])\n",
        "print('-------------------------------------------')\n",
        "#preprocessed text\n",
        "print('Message has verifiable claim : ', tweets['labels'][502])"
      ],
      "execution_count": null,
      "outputs": [
        {
          "output_type": "stream",
          "text": [
            "Reading twitter - 1grams ...\n",
            "Reading twitter - 2grams ...\n",
            "504\n",
            "-------------------------------------------\n",
            "Original message :  #FOX to cause PANDEMIC  #FoxNews is spreading #Trump's #CORONAVIRUS LIES faster than the disease itself  Steer clear of MAGA hats: They're being told the whole thing is a HOAX, and their leader's got it under control, go to work  #MOG☘️ #Christians #MAGA https://t.co/RmrDtoL4bE\n",
            "-------------------------------------------\n",
            "Preprocessed message :  fox to cause pandemic  foxnews is spreading trump's coronavirus lies faster than the disease itself  steer clear of maga hats: they're being told the whole thing is a hoax, and their leader's got it under control, go to work  mog christians maga url\n",
            "-------------------------------------------\n",
            "Message has verifiable claim :  1\n"
          ],
          "name": "stdout"
        }
      ]
    },
    {
      "cell_type": "code",
      "metadata": {
        "colab": {
          "base_uri": "https://localhost:8080/"
        },
        "id": "HmWodQ-RNKVG",
        "scrolled": true,
        "outputId": "8869b88b-caca-4030-bceb-c28d37ef81a4"
      },
      "source": [
        "#checking extracted sentential features of tweets\n",
        "print('Tweet Info Length ..', tweets['text_info']['len'])\n",
        "print('-------------------------------------------------')\n",
        "print('Tweet # upper case chars ..', tweets['text_info']['num_of_upper_char'])\n",
        "print('-------------------------------------------------')\n",
        "print('Tweet has ? ..', tweets['text_info']['has_qmarks'])\n",
        "print('-------------------------------------------------')\n",
        "print('Tweet # ? ..', tweets['text_info']['num_of_qmarks'])\n",
        "print('-------------------------------------------------')\n",
        "print('Tweet has ! ..', tweets['text_info']['has_exclmmarks'])\n",
        "print('-------------------------------------------------')\n",
        "print('Tweet # ! ..', tweets['text_info']['num_of_exclmmarks'])"
      ],
      "execution_count": null,
      "outputs": [
        {
          "output_type": "stream",
          "text": [
            "Tweet Info Length .. 0      134\n",
            "1       24\n",
            "2      218\n",
            "3       72\n",
            "4      292\n",
            "      ... \n",
            "499    247\n",
            "500    275\n",
            "501    273\n",
            "502    278\n",
            "503    237\n",
            "Name: text, Length: 504, dtype: int64\n",
            "-------------------------------------------------\n",
            "Tweet # upper case chars .. 0       2\n",
            "1       0\n",
            "2       7\n",
            "3       2\n",
            "4       7\n",
            "       ..\n",
            "499     5\n",
            "500     5\n",
            "501     3\n",
            "502    51\n",
            "503    30\n",
            "Name: text, Length: 504, dtype: int64\n",
            "-------------------------------------------------\n",
            "Tweet has ? .. 0      False\n",
            "1      False\n",
            "2       True\n",
            "3      False\n",
            "4      False\n",
            "       ...  \n",
            "499    False\n",
            "500    False\n",
            "501    False\n",
            "502    False\n",
            "503    False\n",
            "Name: text, Length: 504, dtype: bool\n",
            "-------------------------------------------------\n",
            "Tweet # ? .. 0      0\n",
            "1      0\n",
            "2      1\n",
            "3      0\n",
            "4      0\n",
            "      ..\n",
            "499    0\n",
            "500    0\n",
            "501    0\n",
            "502    0\n",
            "503    0\n",
            "Name: text, Length: 504, dtype: int64\n",
            "-------------------------------------------------\n",
            "Tweet has ! .. 0      False\n",
            "1      False\n",
            "2       True\n",
            "3      False\n",
            "4      False\n",
            "       ...  \n",
            "499    False\n",
            "500    False\n",
            "501    False\n",
            "502    False\n",
            "503    False\n",
            "Name: text, Length: 504, dtype: bool\n",
            "-------------------------------------------------\n",
            "Tweet # ! .. 0      0\n",
            "1      0\n",
            "2      1\n",
            "3      0\n",
            "4      0\n",
            "      ..\n",
            "499    0\n",
            "500    0\n",
            "501    0\n",
            "502    0\n",
            "503    0\n",
            "Name: text, Length: 504, dtype: int64\n"
          ],
          "name": "stdout"
        }
      ]
    },
    {
      "cell_type": "code",
      "metadata": {
        "id": "1Kdn7uCRNKVI",
        "outputId": "7fc93b21-63b9-499c-c389-6dfe0be82163"
      },
      "source": [
        "#preprocessing Bengali Tweets\n",
        "tweets_bn = preprocess(df_bangla_mod)\n",
        "#length of tweets_bn\n",
        "print(len(tweets_bn['text']))\n",
        "print('-------------------------------------------')\n",
        "#original text\n",
        "print('Original message : ', df_bangla_mod.iloc[376]['text'] )\n",
        "print('-------------------------------------------')\n",
        "#preprocessed text\n",
        "print('Preprocessed message : ', tweets_bn['text'][426])\n",
        "print('-------------------------------------------')\n",
        "#preprocessed text\n",
        "print('Message has verifiable claim : ', tweets_bn['labels'][376])"
      ],
      "execution_count": null,
      "outputs": [
        {
          "output_type": "stream",
          "text": [
            "380\n",
            "-------------------------------------------\n",
            "Original message :  আমাদের কীভাবে সম্ভাব্য COVID-19 ক্ষেত্রে যোগাযোগ করা উচিত? এখানে ডিওএইচ-পিএসএমআইডি টাস্কফোর্সের 09 মার্চ 2020 নির্দেশিকাগুলির উপর ভিত্তি করে আমি একটি ইনফোগ্রাফিক তৈরি করেছি। আশা করি আমরা ক্রমবর্ধমান হুমকির মুখোমুখি হওয়ায় এটি আমাদের এইচসিপিগুলিকে সহায়তা করবে। সবাই নিরাপদে থাকুন। https://t.co/cjvvm52Yx0\n",
            "-------------------------------------------\n",
            "Preprocessed message :  আমাদের কীভাবে সম্ভাব্য covid-19 ক্ষেত্রে যোগাযোগ করা উচিত? এখানে ডিওএইচ-পিএসএমআইডি টাস্কফোর্সের 09 মার্চ 2020 নির্দেশিকাগুলির উপর ভিত্তি করে আমি একটি ইনফোগ্রাফিক তৈরি করেছি। আশা করি আমরা ক্রমবর্ধমান হুমকির মুখোমুখি হওয়ায় এটি আমাদের এইচসিপিগুলিকে সহায়তা করবে। সবাই নিরাপদে থাকুন। URL\n",
            "-------------------------------------------\n",
            "Message has verifiable claim :  1\n"
          ],
          "name": "stdout"
        }
      ]
    },
    {
      "cell_type": "code",
      "metadata": {
        "id": "BSE__0iGNKVI",
        "outputId": "9dbad371-8b14-4461-d765-04770372126e"
      },
      "source": [
        "df_hindi_mod"
      ],
      "execution_count": null,
      "outputs": [
        {
          "output_type": "execute_result",
          "data": {
            "text/html": [
              "<div>\n",
              "<style scoped>\n",
              "    .dataframe tbody tr th:only-of-type {\n",
              "        vertical-align: middle;\n",
              "    }\n",
              "\n",
              "    .dataframe tbody tr th {\n",
              "        vertical-align: top;\n",
              "    }\n",
              "\n",
              "    .dataframe thead th {\n",
              "        text-align: right;\n",
              "    }\n",
              "</style>\n",
              "<table border=\"1\" class=\"dataframe\">\n",
              "  <thead>\n",
              "    <tr style=\"text-align: right;\">\n",
              "      <th></th>\n",
              "      <th>tweet_id</th>\n",
              "      <th>text</th>\n",
              "      <th>Has_Verifiable_Claim</th>\n",
              "    </tr>\n",
              "  </thead>\n",
              "  <tbody>\n",
              "    <tr>\n",
              "      <th>0</th>\n",
              "      <td>1241025578527903750</td>\n",
              "      <td>औसत अमेरिकी के लिए यह बताने का सबसे अच्छा तरीक...</td>\n",
              "      <td>no</td>\n",
              "    </tr>\n",
              "    <tr>\n",
              "      <th>1</th>\n",
              "      <td>1240467080954228737</td>\n",
              "      <td>यह बकवास है</td>\n",
              "      <td>no</td>\n",
              "    </tr>\n",
              "    <tr>\n",
              "      <th>2</th>\n",
              "      <td>1240716889162018816</td>\n",
              "      <td>क्या आप कृपया सरकार के निर्देशों का पालन कर सक...</td>\n",
              "      <td>no</td>\n",
              "    </tr>\n",
              "    <tr>\n",
              "      <th>3</th>\n",
              "      <td>1241062514886090754</td>\n",
              "      <td>कोई अपराध नहीं है लेकिन अप्रैल से पहले गायब हो...</td>\n",
              "      <td>no</td>\n",
              "    </tr>\n",
              "    <tr>\n",
              "      <th>4</th>\n",
              "      <td>1241447017945223169</td>\n",
              "      <td>यह किसी ऐसे व्यक्ति का चेहरा है जिसने लंदन के ...</td>\n",
              "      <td>yes</td>\n",
              "    </tr>\n",
              "    <tr>\n",
              "      <th>...</th>\n",
              "      <td>...</td>\n",
              "      <td>...</td>\n",
              "      <td>...</td>\n",
              "    </tr>\n",
              "    <tr>\n",
              "      <th>409</th>\n",
              "      <td>1237015260571168768</td>\n",
              "      <td>JUST IN: राष्ट्रपति डॉटरे ने 10 मार्च से 14 मा...</td>\n",
              "      <td>yes</td>\n",
              "    </tr>\n",
              "    <tr>\n",
              "      <th>415</th>\n",
              "      <td>1236817440606056448</td>\n",
              "      <td>BREAKING NEWS: मेयर जॉय बेलमोंटे के अनुसार, Qu...</td>\n",
              "      <td>yes</td>\n",
              "    </tr>\n",
              "    <tr>\n",
              "      <th>416</th>\n",
              "      <td>1237283622589206530</td>\n",
              "      <td># इटली में हमने एक भयानक गलती की, हर कोई कहता ...</td>\n",
              "      <td>yes</td>\n",
              "    </tr>\n",
              "    <tr>\n",
              "      <th>418</th>\n",
              "      <td>1237611886905937920</td>\n",
              "      <td>अपने होम्स के चारों ओर एक लड़की लाएँ और अचानक ...</td>\n",
              "      <td>no</td>\n",
              "    </tr>\n",
              "    <tr>\n",
              "      <th>437</th>\n",
              "      <td>1237024126889385986</td>\n",
              "      <td>कोरोना oppa pls उर दुनिया दौरे hyung यू को आरा...</td>\n",
              "      <td>no</td>\n",
              "    </tr>\n",
              "  </tbody>\n",
              "</table>\n",
              "<p>349 rows × 3 columns</p>\n",
              "</div>"
            ],
            "text/plain": [
              "                tweet_id                                               text  \\\n",
              "0    1241025578527903750  औसत अमेरिकी के लिए यह बताने का सबसे अच्छा तरीक...   \n",
              "1    1240467080954228737                                        यह बकवास है   \n",
              "2    1240716889162018816  क्या आप कृपया सरकार के निर्देशों का पालन कर सक...   \n",
              "3    1241062514886090754  कोई अपराध नहीं है लेकिन अप्रैल से पहले गायब हो...   \n",
              "4    1241447017945223169  यह किसी ऐसे व्यक्ति का चेहरा है जिसने लंदन के ...   \n",
              "..                   ...                                                ...   \n",
              "409  1237015260571168768  JUST IN: राष्ट्रपति डॉटरे ने 10 मार्च से 14 मा...   \n",
              "415  1236817440606056448  BREAKING NEWS: मेयर जॉय बेलमोंटे के अनुसार, Qu...   \n",
              "416  1237283622589206530  # इटली में हमने एक भयानक गलती की, हर कोई कहता ...   \n",
              "418  1237611886905937920  अपने होम्स के चारों ओर एक लड़की लाएँ और अचानक ...   \n",
              "437  1237024126889385986  कोरोना oppa pls उर दुनिया दौरे hyung यू को आरा...   \n",
              "\n",
              "    Has_Verifiable_Claim  \n",
              "0                     no  \n",
              "1                     no  \n",
              "2                     no  \n",
              "3                     no  \n",
              "4                    yes  \n",
              "..                   ...  \n",
              "409                  yes  \n",
              "415                  yes  \n",
              "416                  yes  \n",
              "418                   no  \n",
              "437                   no  \n",
              "\n",
              "[349 rows x 3 columns]"
            ]
          },
          "metadata": {
            "tags": []
          },
          "execution_count": 207
        }
      ]
    },
    {
      "cell_type": "code",
      "metadata": {
        "colab": {
          "background_save": true,
          "base_uri": "https://localhost:8080/",
          "height": 438
        },
        "id": "2ocxyhIjNKVK",
        "outputId": "5b5f88c1-1088-42d0-d32d-f5fe1357b38f"
      },
      "source": [
        "#preprocessing Hindi Tweets\n",
        "tweets_hi = preprocess(df_hindi)\n",
        "#length of tweets_hi\n",
        "print(len(tweets_hi['text']))\n",
        "print('-------------------------------------------')\n",
        "#original text\n",
        "print('Original message : ', df_hindi.iloc[le]['text'] )\n",
        "print('-------------------------------------------')\n",
        "#preprocessed text\n",
        "print('Preprocessed message : ', tweets_hi['text'][len(tweets_hi['text'])-1])\n",
        "print('-------------------------------------------')\n",
        "#preprocessed text\n",
        "print('Message has verifiable claim : ', tweets_hi['labels'][len(tweets_hi['text'])-1])"
      ],
      "execution_count": null,
      "outputs": [
        {
          "output_type": "stream",
          "text": [
            "Reading twitter - 1grams ...\n",
            "Reading twitter - 2grams ...\n",
            "504\n",
            "-------------------------------------------\n",
            "Original message :  Nurtw Lagos पहले से ही अपने लोगों को # covid19 पर संवेदी कर रहा है, हाथों को sanitizers साझा करना आदि ...... जबकि कुछ \"शिक्षित\" लोग नकली समाचार फैल रहे हैं और रोगी को संदेह कर रहे हैं।Nurtw 1 - डेम डेम 0 # covid19lagos https://t.co/qcjuht6pa3\n",
            "-------------------------------------------\n",
            "Preprocessed message :  nurtw lagos पहले से ही अपने लोगों को  covid 1 9 पर संवेदी कर रहा है, हाथों को sanitizers साझा करना आदि ...... जबकि कुछ \"शिक्षित\" लोग नकली समाचार फैल रहे हैं और रोगी को संदेह कर रहे हैं।nurtw  1  - डेम डेम  0  covid 1 9lagos url\n",
            "-------------------------------------------\n",
            "Message has verifiable claim :  1\n"
          ],
          "name": "stdout"
        }
      ]
    },
    {
      "cell_type": "code",
      "metadata": {
        "id": "BCMpCEMzNKVL"
      },
      "source": [
        "#saving tweet info\n",
        "import pickle as pkl\n",
        "with open('./resources/covid_en_tweet.pickle', 'wb') as pkl_out:\n",
        "    pkl.dump(tweets, pkl_out)\n",
        "with open('./resources/covid_bn_tweet.pickle', 'wb') as pkl_out:\n",
        "    pkl.dump(tweets_bn, pkl_out)\n",
        "with open('./resources/covid_hi_tweet.pickle', 'wb') as pkl_out:\n",
        "    pkl.dump(tweets_hi, pkl_out)"
      ],
      "execution_count": null,
      "outputs": []
    },
    {
      "cell_type": "code",
      "metadata": {
        "id": "gSotU7kNNKVL",
        "outputId": "8d21c0d7-40e4-49f2-da68-3eb1719e0e11"
      },
      "source": [
        "#get metadata\n",
        "from pandas.io.json import json_normalize \n",
        "import json\n",
        "\n",
        "url = './data/covid19_disinfo_data/English/covid19_infodemic_english_data.json'\n",
        "d = [json.loads(line) for line in open(url, 'r')] #JSON dump has one object per line, hence this works\n",
        "#print (d)\n",
        "\n",
        "df_meta = json_normalize(d)\n",
        "print('No. of User features : ', len(df_meta.columns))\n",
        "print('Sample user features : ', df_meta.columns[:10])"
      ],
      "execution_count": null,
      "outputs": [
        {
          "output_type": "stream",
          "text": [
            "/home/debanjana_ibm/anaconda3/envs/covidfake/lib/python3.6/site-packages/ipykernel_launcher.py:9: FutureWarning: pandas.io.json.json_normalize is deprecated, use pandas.json_normalize instead\n",
            "  if __name__ == '__main__':\n"
          ],
          "name": "stderr"
        },
        {
          "output_type": "stream",
          "text": [
            "No. of User features :  174\n",
            "Sample user features :  Index(['created_at', 'id', 'id_str', 'full_text', 'truncated',\n",
            "       'display_text_range', 'source', 'in_reply_to_status_id',\n",
            "       'in_reply_to_status_id_str', 'in_reply_to_user_id'],\n",
            "      dtype='object')\n"
          ],
          "name": "stdout"
        }
      ]
    },
    {
      "cell_type": "code",
      "metadata": {
        "id": "GAFFlrZSNKVM",
        "scrolled": true
      },
      "source": [
        "user_fts = ['user.screen_name','user.location','user.description','user.protected','user.followers_count','user.friends_count','user.created_at','user.favourites_count','user.geo_enabled','user.verified','user.statuses_count','quoted_status.created_at','created_at','quoted_status.retweet_count','quoted_status.favorite_count','retweet_count','favorite_count']\n",
        "df_meta = df_meta[user_fts]"
      ],
      "execution_count": null,
      "outputs": []
    },
    {
      "cell_type": "code",
      "metadata": {
        "id": "45iFYaM1NKVM",
        "outputId": "24c7315d-1646-4347-c990-81dc613c958f"
      },
      "source": [
        "#english dataset stats\n",
        "import seaborn as sns\n",
        "import matplotlib.pyplot\n",
        "lst = df['Has_Verifiable_Claim'].to_list()\n",
        "print('Yes : ', lst.count('yes'), 'No : ', lst.count('no') )\n",
        "df_plot = pd.DataFrame({'label':['Yes', 'No'], 'count':[lst.count('yes'), lst.count('no')]})\n",
        "df_plot.plot.bar(x='label', y='count', rot=0)"
      ],
      "execution_count": null,
      "outputs": [
        {
          "output_type": "stream",
          "text": [
            "Yes :  305 No :  199\n"
          ],
          "name": "stdout"
        },
        {
          "output_type": "execute_result",
          "data": {
            "text/plain": [
              "<matplotlib.axes._subplots.AxesSubplot at 0x7f658665e5c0>"
            ]
          },
          "metadata": {
            "tags": []
          },
          "execution_count": 226
        },
        {
          "output_type": "display_data",
          "data": {
            "image/png": "[encoded data removed]",
            "text/plain": [
              "<Figure size 432x288 with 1 Axes>"
            ]
          },
          "metadata": {
            "tags": []
          }
        }
      ]
    },
    {
      "cell_type": "code",
      "metadata": {
        "id": "TmcJ7XZ3NKVN",
        "outputId": "8a9de778-7f7a-4cd3-f78b-8eab33b8c5f1"
      },
      "source": [
        "#bengali dataset stats\n",
        "lst = df_bangla_mod['Has_Verifiable_Claim'].to_list()\n",
        "print('Yes : ', lst.count('yes'), 'No : ', lst.count('no') )\n",
        "df_plot = pd.DataFrame({'label':['Yes', 'No'], 'count':[lst.count('yes'), lst.count('no')]})\n",
        "df_plot.plot.bar(x='label', y='count', rot=0)"
      ],
      "execution_count": null,
      "outputs": [
        {
          "output_type": "stream",
          "text": [
            "Yes :  227 No :  153\n"
          ],
          "name": "stdout"
        },
        {
          "output_type": "execute_result",
          "data": {
            "text/plain": [
              "<matplotlib.axes._subplots.AxesSubplot at 0x7f658667b668>"
            ]
          },
          "metadata": {
            "tags": []
          },
          "execution_count": 225
        },
        {
          "output_type": "display_data",
          "data": {
            "image/png": "[encoded data removed]",
            "text/plain": [
              "<Figure size 432x288 with 1 Axes>"
            ]
          },
          "metadata": {
            "tags": []
          }
        }
      ]
    },
    {
      "cell_type": "code",
      "metadata": {
        "id": "X3-OY1xQNKVO",
        "outputId": "5185d81c-eb68-48cb-eafb-4da58dbbf978"
      },
      "source": [
        "#hindi dataset stats\n",
        "lst = df_hindi_mod['Has_Verifiable_Claim'].to_list()\n",
        "print('Yes : ', lst.count('yes'), 'No : ', lst.count('no') )\n",
        "df_plot = pd.DataFrame({'label':['Yes', 'No'], 'count':[lst.count('yes'), lst.count('no')]})\n",
        "df_plot.plot.bar(x='label', y='count', rot=0)"
      ],
      "execution_count": null,
      "outputs": [
        {
          "output_type": "stream",
          "text": [
            "Yes :  206 No :  143\n"
          ],
          "name": "stdout"
        },
        {
          "output_type": "execute_result",
          "data": {
            "text/plain": [
              "<matplotlib.axes._subplots.AxesSubplot at 0x7f6586718978>"
            ]
          },
          "metadata": {
            "tags": []
          },
          "execution_count": 224
        },
        {
          "output_type": "display_data",
          "data": {
            "image/png": "[encoded data removed]",
            "text/plain": [
              "<Figure size 432x288 with 1 Axes>"
            ]
          },
          "metadata": {
            "tags": []
          }
        }
      ]
    }
  ]
}